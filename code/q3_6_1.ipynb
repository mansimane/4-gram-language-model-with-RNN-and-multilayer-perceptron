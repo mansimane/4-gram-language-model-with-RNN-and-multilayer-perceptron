{
 "cells": [
  {
   "cell_type": "code",
   "execution_count": 2,
   "metadata": {},
   "outputs": [],
   "source": [
    "#Importing Library\n",
    "\n",
    "from keras.models import Sequential \n",
    "from keras.layers import Recurrent, LSTM, Dense, Embedding\n",
    "from prepare_text_data import *\n",
    "from config_3_2 import *\n",
    "from ngram_functions import *\n",
    " \n",
    "from keras import optimizers \n",
    "from keras import backend as K"
   ]
  },
  {
   "cell_type": "code",
   "execution_count": null,
   "metadata": {},
   "outputs": [],
   "source": [
    "#Data Preprocessing\n",
    "param = initialize_weights(hyper_para)\n",
    "x_train, y_train, x_val, y_val = prepare_text_data(param)\n",
    "print(x_train.shape, y_train.shape)"
   ]
  },
  {
   "cell_type": "code",
   "execution_count": null,
   "metadata": {},
   "outputs": [],
   "source": [
    "#Build the model\n",
    "\n",
    "model = Sequential()\n",
    "no_of_words = 8000\n",
    "word_embedding_size = 16\n",
    "RNN_length = 32\n",
    "batch_size = 16\n",
    "epochs = 10\n",
    "\n",
    "model.add(Embedding(no_of_words, word_embedding_size, input_length=3))\n",
    "model.add(LSTM(RNN_length,activation='tanh', return_sequences = False))\n",
    "#model.add(Dropout(0.5))\n",
    "model.add(Dense(no_of_words, activation='softmax'))\n",
    "\n",
    "\n",
    "#input_array = np.random.randint(1000, size=(32, 10))\n",
    "\n",
    "model.compile(optimizer = 'rmsprop', loss = 'categorical_crossentropy')\n",
    "model.fit(x_train, y_train, validation_data = (x_val, y_val), batch_size = batch_size, epochs = epochs)\n",
    "\n",
    "output_array = model.predict(input_array)\n",
    "assert output_array.shape == (32, 10, 64)"
   ]
  },
  {
   "cell_type": "code",
   "execution_count": null,
   "metadata": {
    "collapsed": true
   },
   "outputs": [],
   "source": []
  }
 ],
 "metadata": {
  "kernelspec": {
   "display_name": "Python 2",
   "language": "python",
   "name": "python2"
  },
  "language_info": {
   "codemirror_mode": {
    "name": "ipython",
    "version": 2
   },
   "file_extension": ".py",
   "mimetype": "text/x-python",
   "name": "python",
   "nbconvert_exporter": "python",
   "pygments_lexer": "ipython2",
   "version": "2.7.13"
  }
 },
 "nbformat": 4,
 "nbformat_minor": 2
}
