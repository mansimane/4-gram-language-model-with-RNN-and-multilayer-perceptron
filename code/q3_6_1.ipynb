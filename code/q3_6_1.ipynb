{
 "cells": [
  {
   "cell_type": "code",
   "execution_count": 1,
   "metadata": {},
   "outputs": [
    {
     "name": "stdout",
     "output_type": "stream",
     "text": [
      "((86402, 3), (86402, 8000))\n"
     ]
    }
   ],
   "source": [
    "#Data Preprocessing\n",
    "from prepare_text_data import *\n",
    "from config_3_2 import *\n",
    "from ngram_functions import *\n",
    "param = initialize_weights(hyper_para)\n",
    "x_train, y_train, x_val, y_val = prepare_text_data(param)\n",
    "print(x_train.shape, y_train.shape)\n"
   ]
  },
  {
   "cell_type": "code",
   "execution_count": 17,
   "metadata": {},
   "outputs": [],
   "source": [
    "\n",
    "#Importing Library\n",
    "\n",
    "from keras.models import Sequential\n",
    "from keras.layers import Recurrent, LSTM, Dense, Embedding, SimpleRNN\n",
    "from keras import optimizers\n",
    "from keras import backend as K\n",
    "from generic_functions import *\n"
   ]
  },
  {
   "cell_type": "code",
   "execution_count": null,
   "metadata": {},
   "outputs": [],
   "source": [
    "y_train = np.load('obj/y_train.pkl.npy')\n",
    "print(\"a\")\n",
    "y_val = np.load('obj/y_val.npy')\n",
    "x_val = np.load('obj/x_val.npy')\n",
    "x_train = np.load('obj/x_train.npy')\n",
    "\n",
    "print(x_train.shape, y_train.shape)"
   ]
  },
  {
   "cell_type": "code",
   "execution_count": 19,
   "metadata": {},
   "outputs": [
    {
     "name": "stdout",
     "output_type": "stream",
     "text": [
      "Train on 86402 samples, validate on 10360 samples\n",
      "Epoch 1/2\n",
      "86402/86402 [==============================] - 135s - loss: 7.5114 - val_loss: 6.4384\n",
      "Epoch 2/2\n",
      "86402/86402 [==============================] - 139s - loss: 6.6541 - val_loss: 6.2763\n"
     ]
    }
   ],
   "source": [
    "\n",
    "#Build the model\n",
    "\n",
    "model = Sequential()\n",
    "no_of_words = 8000\n",
    "word_embedding_size = 16\n",
    "RNN_length = 32\n",
    "batch_size = 16\n",
    "epochs = 2\n",
    "learning_rate = 0.01\n",
    "\n",
    "model.add(Embedding(no_of_words, word_embedding_size, input_length=3))\n",
    "#model.add(LSTM(RNN_length,activation='tanh', return_sequences = False))\n",
    "#keras.layers.SimpleRNN(units, activation='tanh', use_bias=True, kernel_initializer='glorot_uniform', recurrent_initializer='orthogonal', bias_initializer='zeros', kernel_regularizer=None, recurrent_regularizer=None, bias_regularizer=None, activity_regularizer=None, kernel_constraint=None, recurrent_constraint=None, bias_constraint=None, dropout=0.0, recurrent_dropout=0.0, return_sequences=False, return_state=False, go_backwards=False, stateful=False, unroll=False)\n",
    "#model.add(SimpleRNN(cell, return_sequences=False, return_state=False, go_backwards=False, stateful=False, unroll=False))\n",
    "model.add(SimpleRNN(RNN_length, activation='tanh', use_bias=True, kernel_initializer='glorot_uniform', recurrent_initializer='orthogonal', bias_initializer='zeros', kernel_regularizer=None, recurrent_regularizer=None, bias_regularizer=None, activity_regularizer=None, kernel_constraint=None, recurrent_constraint=None, bias_constraint=None, dropout=0.0, recurrent_dropout=0.0, return_sequences=False, return_state=False, go_backwards=False, stateful=False, unroll=False))\n",
    "\n",
    "\n",
    "#model.add(Dropout(0.5))\n",
    "model.add(Dense(no_of_words, activation='softmax'))\n",
    "\n",
    "\n",
    "#input_array = np.random.randint(1000, size=(32, 10))\n",
    "sgd = optimizers.SGD(lr=learning_rate)\n",
    "model.compile(optimizer = sgd, loss = 'categorical_crossentropy')\n",
    "history = model.fit(x_train, y_train, validation_data = (x_val, y_val), batch_size = batch_size, epochs = epochs)\n",
    "\n",
    "#output_array = model.predict(input_array)\n",
    "#assert output_array.shape == (32, 10, 64)"
   ]
  },
  {
   "cell_type": "code",
   "execution_count": 13,
   "metadata": {
    "scrolled": true
   },
   "outputs": [
    {
     "name": "stdout",
     "output_type": "stream",
     "text": [
      "['loss', 'val_loss']\n"
     ]
    }
   ],
   "source": [
    "print(history.history.keys())"
   ]
  },
  {
   "cell_type": "code",
   "execution_count": 22,
   "metadata": {},
   "outputs": [
    {
     "data": {
      "image/png": "[encoded data removed]",
      "text/plain": [
       "<matplotlib.figure.Figure at 0x1c83372e90>"
      ]
     },
     "metadata": {},
     "output_type": "display_data"
    }
   ],
   "source": [
    "import matplotlib.pyplot as plt\n",
    "import time\n",
    "plt.plot(history.history['loss'])\n",
    "plt.plot(history.history['val_loss'])\n",
    "plt.title('model loss')\n",
    "plt.ylabel('loss')\n",
    "plt.xlabel('epoch')\n",
    "date = time.strftime(\"%Y-%m-%d_%H_%M\")\n",
    "plt.legend(['train', 'test'], loc='upper left')\n",
    "fig = plt.gcf()\n",
    "fig.savefig('../results/'+'/Q3_6_1' + date + '.png')\n",
    "\n",
    "plt.show()"
   ]
  },
  {
   "cell_type": "code",
   "execution_count": null,
   "metadata": {
    "collapsed": true
   },
   "outputs": [],
   "source": []
  }
 ],
 "metadata": {
  "kernelspec": {
   "display_name": "Python 2",
   "language": "python",
   "name": "python2"
  },
  "language_info": {
   "codemirror_mode": {
    "name": "ipython",
    "version": 2
   },
   "file_extension": ".py",
   "mimetype": "text/x-python",
   "name": "python",
   "nbconvert_exporter": "python",
   "pygments_lexer": "ipython2",
   "version": "2.7.13"
  }
 },
 "nbformat": 4,
 "nbformat_minor": 2
}
